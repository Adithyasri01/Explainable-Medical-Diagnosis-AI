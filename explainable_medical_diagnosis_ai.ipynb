{
 "cells": [
  {
   "cell_type": "markdown",
   "id": "d130b3e0",
   "metadata": {},
   "source": [
    "# Explainable Medical Diagnosis AI - Demo Notebook\n",
    "This notebook demonstrates how to load data, train a basic CNN model on medical images, and apply Grad-CAM for visual explanations.\n"
   ]
  },
  {
   "cell_type": "markdown",
   "id": "c1c76c63",
   "metadata": {},
   "source": [
    "## Step 1: Load Data"
   ]
  },
  {
   "cell_type": "code",
   "execution_count": null,
   "id": "5786449f",
   "metadata": {},
   "outputs": [],
   "source": [
    "import os\n",
    "import numpy as np\n",
    "import pandas as pd\n",
    "import matplotlib.pyplot as plt\n",
    "import cv2\n",
    "from tensorflow.keras.preprocessing.image import ImageDataGenerator\n",
    "\n",
    "# Sample synthetic data loading setup\n",
    "image_dir = 'data/sample_images/'\n",
    "img_size = 128\n",
    "\n",
    "# Load and preprocess images\n",
    "def load_images(directory, size=(img_size, img_size)):\n",
    "    images = []\n",
    "    labels = []\n",
    "    for fname in os.listdir(directory):\n",
    "        if fname.endswith('.jpg') or fname.endswith('.png'):\n",
    "            img = cv2.imread(os.path.join(directory, fname))\n",
    "            img = cv2.resize(img, size)\n",
    "            images.append(img)\n",
    "            labels.append(1 if 'positive' in fname else 0)\n",
    "    return np.array(images), np.array(labels)\n",
    "\n",
    "X, y = load_images(image_dir)\n",
    "X = X / 255.0\n",
    "print(f\"Loaded {len(X)} images with shape {X[0].shape}\")\n"
   ]
  },
  {
   "cell_type": "markdown",
   "id": "6269835e",
   "metadata": {},
   "source": [
    "## Step 2: Train CNN Model"
   ]
  },
  {
   "cell_type": "code",
   "execution_count": null,
   "id": "659d5e72",
   "metadata": {},
   "outputs": [],
   "source": [
    "from tensorflow.keras.models import Sequential\n",
    "from tensorflow.keras.layers import Conv2D, MaxPooling2D, Flatten, Dense\n",
    "from tensorflow.keras.optimizers import Adam\n",
    "\n",
    "# Simple CNN model\n",
    "model = Sequential([\n",
    "    Conv2D(16, (3,3), activation='relu', input_shape=(img_size, img_size, 3)),\n",
    "    MaxPooling2D(2,2),\n",
    "    Conv2D(32, (3,3), activation='relu'),\n",
    "    MaxPooling2D(2,2),\n",
    "    Flatten(),\n",
    "    Dense(64, activation='relu'),\n",
    "    Dense(1, activation='sigmoid')\n",
    "])\n",
    "\n",
    "model.compile(optimizer=Adam(), loss='binary_crossentropy', metrics=['accuracy'])\n",
    "\n",
    "# Train (limited epochs for demo)\n",
    "history = model.fit(X, y, epochs=3, validation_split=0.2)\n"
   ]
  },
  {
   "cell_type": "markdown",
   "id": "e88dce22",
   "metadata": {},
   "source": [
    "## Step 3: Grad-CAM for Explainability"
   ]
  },
  {
   "cell_type": "code",
   "execution_count": null,
   "id": "8436e612",
   "metadata": {},
   "outputs": [],
   "source": [
    "import tensorflow as tf\n",
    "\n",
    "# Grad-CAM function\n",
    "def grad_cam_heatmap(model, image, layer_name='conv2d_1'):\n",
    "    grad_model = tf.keras.models.Model(\n",
    "        [model.inputs], [model.get_layer(layer_name).output, model.output]\n",
    "    )\n",
    "    with tf.GradientTape() as tape:\n",
    "        conv_outputs, predictions = grad_model(np.expand_dims(image, axis=0))\n",
    "        loss = predictions[:, 0]\n",
    "\n",
    "    grads = tape.gradient(loss, conv_outputs)\n",
    "    pooled_grads = tf.reduce_mean(grads, axis=(0, 1, 2))\n",
    "    conv_outputs = conv_outputs[0]\n",
    "    heatmap = conv_outputs @ pooled_grads[..., tf.newaxis]\n",
    "    heatmap = tf.squeeze(heatmap)\n",
    "    heatmap = np.maximum(heatmap, 0) / tf.math.reduce_max(heatmap)\n",
    "    return heatmap.numpy()\n",
    "\n",
    "# Select and visualize one image\n",
    "img = X[0]\n",
    "heatmap = grad_cam_heatmap(model, img)\n",
    "\n",
    "# Superimpose heatmap on original image\n",
    "heatmap = cv2.resize(heatmap, (img.shape[1], img.shape[0]))\n",
    "heatmap_img = np.uint8(255 * heatmap)\n",
    "heatmap_img = cv2.applyColorMap(heatmap_img, cv2.COLORMAP_JET)\n",
    "superimposed = cv2.addWeighted(np.uint8(img * 255), 0.6, heatmap_img, 0.4, 0)\n",
    "\n",
    "# Display result\n",
    "plt.figure(figsize=(10, 4))\n",
    "plt.subplot(1, 3, 1)\n",
    "plt.title(\"Original Image\")\n",
    "plt.imshow(img)\n",
    "plt.axis('off')\n",
    "\n",
    "plt.subplot(1, 3, 2)\n",
    "plt.title(\"Grad-CAM Heatmap\")\n",
    "plt.imshow(heatmap, cmap='jet')\n",
    "plt.axis('off')\n",
    "\n",
    "plt.subplot(1, 3, 3)\n",
    "plt.title(\"Superimposed\")\n",
    "plt.imshow(superimposed)\n",
    "plt.axis('off')\n",
    "plt.show()\n"
   ]
  }
 ],
 "metadata": {},
 "nbformat": 4,
 "nbformat_minor": 5
}
